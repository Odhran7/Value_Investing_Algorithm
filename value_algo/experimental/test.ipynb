{
 "cells": [
  {
   "cell_type": "code",
   "execution_count": 6,
   "metadata": {},
   "outputs": [],
   "source": [
    "# Loading 'optimal' model\n",
    "import joblib\n",
    "\n",
    "best_xgb = joblib.load('./optimal_model/best_xgb_model.pkl')\n",
    "scaler = joblib.load('./optimal_model/scaler.pkl')"
   ]
  },
  {
   "cell_type": "code",
   "execution_count": 42,
   "metadata": {},
   "outputs": [
    {
     "name": "stdout",
     "output_type": "stream",
     "text": [
      "Mean Absolute Error on the test set: 283.05 dollars\n",
      "         Actual   Predicted      Error  Absolute Error\n",
      "0  1.700000e+02  172.890961  -2.890961        2.890961\n",
      "1  1.930000e+02  179.553940  13.446060       13.446060\n",
      "2  1.790000e+02  161.267471  17.732529       17.732529\n",
      "3  4.350000e+02  426.080353   8.919647        8.919647\n",
      "4  1.000000e-12   34.740982 -34.740982       34.740982\n"
     ]
    }
   ],
   "source": [
    "import pandas as pd\n",
    "import numpy as np\n",
    "import joblib\n",
    "from sklearn.metrics import mean_absolute_error\n",
    "\n",
    "# Load the necessary files\n",
    "best_xgb = joblib.load('best_xgb_model.pkl')\n",
    "scaler = joblib.load('scaler.pkl')\n",
    "sel = joblib.load('feature_selector.pkl')\n",
    "\n",
    "# Load the test data\n",
    "df_test = pd.read_csv('./data/portfolio_value_fair_value_data.csv')  # Ensure this file matches your test data structure\n",
    "df_test = df_test.drop(columns=['Ticker'])\n",
    "df_test = pd.get_dummies(df_test)\n",
    "df_test = df_test.apply(pd.to_numeric, errors='coerce')\n",
    "df_test = df_test.fillna(0)  # Ensure this matches your training preprocessing\n",
    "\n",
    "# Ensure the same preprocessing and feature selection as the training data\n",
    "df_test = df_test.clip(lower=1e-12, upper=1e12)\n",
    "X_test = df_test.drop(columns=['Fair Value'])\n",
    "y_test = df_test['Fair Value']\n",
    "\n",
    "# Apply the same transformations as in training\n",
    "skewed_feats = X_test.apply(lambda x: np.abs(x.skew())).sort_values(ascending=False)\n",
    "skewed_features = skewed_feats[skewed_feats > 0.75].index\n",
    "for feat in skewed_features:\n",
    "    if X_test[feat].dtype in [np.float64, np.float32]:\n",
    "        X_test[feat] = np.log1p(X_test[feat].clip(lower=1e-12))\n",
    "\n",
    "X_test_scaled = scaler.transform(X_test)\n",
    "X_test_selected = sel.transform(X_test_scaled)\n",
    "\n",
    "# Make predictions\n",
    "y_pred = best_xgb.predict(X_test_selected)\n",
    "\n",
    "# Calculate the errors\n",
    "errors = y_test - y_pred\n",
    "abs_errors = np.abs(errors)\n",
    "\n",
    "# Create a DataFrame to hold the results\n",
    "results_df = pd.DataFrame({\n",
    "    'Actual': y_test,\n",
    "    'Predicted': y_pred,\n",
    "    'Error': errors,\n",
    "    'Absolute Error': abs_errors\n",
    "})\n",
    "\n",
    "# Save results to a CSV file for further analysis\n",
    "results_df.to_csv('test_set_errors.csv', index=False)\n",
    "\n",
    "# Calculate and print the overall MAE for verification\n",
    "mae = mean_absolute_error(y_test, y_pred)\n",
    "print(f\"Mean Absolute Error on the test set: {mae:.2f} dollars\")\n",
    "\n",
    "# Show the first few rows of the results for a quick look\n",
    "print(results_df.head())\n"
   ]
  }
 ],
 "metadata": {
  "kernelspec": {
   "display_name": "Python 3",
   "language": "python",
   "name": "python3"
  },
  "language_info": {
   "codemirror_mode": {
    "name": "ipython",
    "version": 3
   },
   "file_extension": ".py",
   "mimetype": "text/x-python",
   "name": "python",
   "nbconvert_exporter": "python",
   "pygments_lexer": "ipython3",
   "version": "3.8.10"
  }
 },
 "nbformat": 4,
 "nbformat_minor": 2
}
